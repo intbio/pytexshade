{
 "cells": [
  {
   "cell_type": "code",
   "execution_count": 36,
   "metadata": {},
   "outputs": [
    {
     "name": "stdout",
     "output_type": "stream",
     "text": [
      "The autoreload extension is already loaded. To reload it, use:\n",
      "  %reload_ext autoreload\n"
     ]
    }
   ],
   "source": [
    "%load_ext autoreload\n",
    "%autoreload 2"
   ]
  },
  {
   "cell_type": "code",
   "execution_count": 37,
   "metadata": {},
   "outputs": [],
   "source": [
    "from pytexshade import ipyshade\n",
    "from Bio.Seq import Seq\n",
    "from Bio.SeqRecord import SeqRecord\n",
    "from Bio.Align import MultipleSeqAlignment"
   ]
  },
  {
   "cell_type": "markdown",
   "metadata": {},
   "source": [
    "## Simple example with description"
   ]
  },
  {
   "cell_type": "code",
   "execution_count": 47,
   "metadata": {},
   "outputs": [],
   "source": [
    "#Prepare a Multiple Sequence Alignment in biopython\n",
    "human_h2a_z_core=Seq('SRSQRAGLQFPVGRIHRHLKSRTTSHGRVGATAAVYSAAILEYLTAEVLELAGNASKDLKVKRITPRHLQLAIRGDEELDSLI-KATIAGGGVIPHIHKSLIG')\n",
    "xenopus_h2a_core=Seq('TRSSRAGLQFPVGRVHRLLRKGNYAE-RVGAGAPVYLAAVLEYLTAEILELAGNAARDNKKTRIIPRHLQLAVRNDEELNKLLGRVTIAQGGVLPNIQSVLLP')\n",
    "msa=MultipleSeqAlignment([SeqRecord(xenopus_h2a_core,id='H2A',name='H2A'),SeqRecord(human_h2a_z_core,id='H2AZ',name='H2AZ')])\n"
   ]
  },
  {
   "cell_type": "code",
   "execution_count": 48,
   "metadata": {},
   "outputs": [],
   "source": [
    "#We need to describe feautures\n",
    "#See also TexShade docs http://mirrors.mi.ras.ru/CTAN/macros/latex/contrib/texshade/texshade.pdf\n",
    "features=[\n",
    "    {'style':'fill:$\\\\uparrow$', #Styles - all TexShade feature types AND also \"frameblock\", \"shaderegion\" or \"shadeblock\", see TexShade docs for more info\\\n",
    "     #'position':'top',# Position of feature annotation also 'bottom','ttop','bbottom', etc. if no - automatic'\\\n",
    "     #'seqref':1, #number of sequence for selections - default consensus\\\n",
    "     'sel':[5,10], # selection with 0-based numbering, both start and end are included!\\\n",
    "     #'color':'Red',# color for for frame block\\\n",
    "     #'thickness':1.5 #-1.5pt also for frameblock\\\n",
    "     #'rescol':'Black',  #this is residue color for shaderegion style, see TexShade docs \\shaderegion{ seqref  }{ selection }{ res.col. }{ shad.col. }\\\n",
    "     #'shadcol':'Green',#this is shding color for shaderegion style, see TexShade docs \\shaderegion{ seqref  }{ selection }{ res.col. }{ shad.col. }\\\n",
    "     #funcgroup example fg=\"\\\\funcgroup{xxx}{CT}{White}{Green}{upper}{up} \\\\funcgroup{xxx}{GA}{White}{Blue}{upper}{up}\"\\\n",
    "     'text':'test'},\n",
    "]\n",
    "\n"
   ]
  },
  {
   "cell_type": "code",
   "execution_count": 51,
   "metadata": {},
   "outputs": [
    {
     "data": {
      "image/png": "[encoded data removed]",
      "text/plain": [
       "<pytexshade.ipyshade.shadedmsa at 0x7fdc4f910908>"
      ]
     },
     "execution_count": 51,
     "metadata": {},
     "output_type": "execute_result"
    }
   ],
   "source": [
    "#Shade\n",
    "ipyshade.shadedmsa(msa,\\\n",
    "     shading_modes=['charge_functional'],# list of shading modes according to TexShade, supported are \"similar\", \"hydropathy_functional\", \"chemical_functional\", \"structure_functional\", \"charge_functional\", \"diverse\"\\\n",
    "     legend=False,features=features,title='',\\\n",
    "     logo=False, #SeqLogo \\\n",
    "     hideseqs=False,#activate \\hidseqs command \\ \n",
    "     splitN=20, #alignment will be split into splitN batches\\\n",
    "     setends=[], # a section of alignment will be displayed between setends[0] and setends[1]\\\n",
    "     ruler=False, # Add a ruler\\\n",
    "     show_seq_names=False,# Show sequence names\\\n",
    "     funcgroups=None, # Hilight functional groups, Tex code should be inserted example funcgroups=\"\\\\funcgroup{xxx}{CT}{White}{Green}{upper}{up} \\\\funcgroup{yyy}{GA}{White}{Blue}{upper}{up}\" \\\n",
    "     show_seq_length=False #Show sequence length \\\n",
    "    )"
   ]
  },
  {
   "cell_type": "markdown",
   "metadata": {},
   "source": [
    "## More examples\n",
    "in development"
   ]
  },
  {
   "cell_type": "code",
   "execution_count": null,
   "metadata": {},
   "outputs": [],
   "source": []
  },
  {
   "cell_type": "markdown",
   "metadata": {},
   "source": [
    "## Using automatic feature annotation"
   ]
  },
  {
   "cell_type": "code",
   "execution_count": null,
   "metadata": {},
   "outputs": [],
   "source": []
  }
 ],
 "metadata": {
  "kernelspec": {
   "display_name": "Python [conda env:moldyn]",
   "language": "python",
   "name": "conda-env-moldyn-py"
  },
  "language_info": {
   "codemirror_mode": {
    "name": "ipython",
    "version": 3
   },
   "file_extension": ".py",
   "mimetype": "text/x-python",
   "name": "python",
   "nbconvert_exporter": "python",
   "pygments_lexer": "ipython3",
   "version": "3.7.3"
  }
 },
 "nbformat": 4,
 "nbformat_minor": 2
}
